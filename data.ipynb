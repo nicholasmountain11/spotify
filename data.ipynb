{
 "cells": [
  {
   "cell_type": "markdown",
   "metadata": {},
   "source": [
    "## The  Ultimate 2000s Playlist\n"
   ]
  },
  {
   "cell_type": "markdown",
   "metadata": {},
   "source": [
    "### What do we want to do?\n",
    "\n",
    "We want to analyze the attributes of the top 50 songs of the 2000s, to make an ultimate playlists that captures the feeling of the 2000s.\n"
   ]
  },
  {
   "cell_type": "markdown",
   "metadata": {},
   "source": [
    " First, the necessary imports!"
   ]
  },
  {
   "cell_type": "code",
   "execution_count": 141,
   "metadata": {},
   "outputs": [],
   "source": [
    "import numpy as np\n",
    "from datascience import * \n",
    "\n",
    "import matplotlib\n",
    "%matplotlib inline\n",
    "import matplotlib.pyplot as plots\n",
    "plots.style.use('fivethirtyeight')\n",
    "import warnings\n",
    "warnings.simplefilter('ignore', FutureWarning)\n",
    "\n",
    "import main\n",
    "from songs import Song_Attributes\n",
    "from dotenv import load_dotenv\n",
    "import os\n",
    "import base64\n",
    "from requests import post, get\n",
    "import json\n",
    "from songs import Song_Attributes\n",
    "import requests"
   ]
  },
  {
   "cell_type": "markdown",
   "metadata": {},
   "source": [
    "### Function for plotting attributes\n",
    "Plots the average attributes of a playlist, puts them on a scale of 0-100% of the possible value range."
   ]
  },
  {
   "cell_type": "code",
   "execution_count": 155,
   "metadata": {},
   "outputs": [],
   "source": [
    "def plotting(playlist_final):\n",
    "\n",
    "    danceabilityAry = make_array()\n",
    "    loudnessAry = make_array()\n",
    "    valenceAry = make_array()\n",
    "    energyAry = make_array()\n",
    "    speechinessAry = make_array()\n",
    "\n",
    "    for song in playlist_final:\n",
    "        danceabilityAry = np.append(danceabilityAry, song.danceability)\n",
    "        loudnessAry = np.append(loudnessAry, song.loudness)\n",
    "        valenceAry = np.append(valenceAry, song.valence)\n",
    "        energyAry = np.append(energyAry, song.energy)\n",
    "        speechinessAry = np.append(speechinessAry, song.speechiness)\n",
    "\n",
    "\n",
    "\n",
    "    playlistTable = Table().with_columns('Danceability', danceabilityAry, 'Loudness', loudnessAry, 'Valence', valenceAry,\n",
    "                                     'Energy', energyAry, 'Speechiness', speechinessAry)\n",
    "\n",
    "    # normalize ranges\n",
    "    danceabilityAry = danceabilityAry * 100\n",
    "    loudnessAry = (((loudnessAry + 60) * 100) / 60)\n",
    "    valenceAry = valenceAry * 100\n",
    "    energyAry = energyAry * 100\n",
    "    speechinessAry = speechinessAry * 100\n",
    "    \n",
    "    attributesAry = make_array('Danceability', 'Loudness', 'Valence', 'Energy', 'Speechiness')\n",
    "\n",
    "    danceAvg = np.mean(danceabilityAry)\n",
    "    loudAvg = np.mean(loudnessAry)\n",
    "    valenceAvg = np.mean(valenceAry)\n",
    "    energyAvg = np.mean(energyAry)\n",
    "    speechAvg = np.mean(speechinessAry)\n",
    "\n",
    "    averageAry = make_array(danceAvg, loudAvg, valenceAvg, energyAvg, speechAvg)\n",
    "\n",
    "    averageTable = Table().with_columns('Attribute', attributesAry, 'Average', averageAry)\n",
    "\n",
    "    averageTable.barh('Attribute', 'Average')\n",
    "\n"
   ]
  },
  {
   "cell_type": "markdown",
   "metadata": {},
   "source": [
    "### Helper Functions\n",
    "These functions allow us to find songs, make a playlist based on attribute value ranges, and store the artists and song names of each song."
   ]
  },
  {
   "cell_type": "code",
   "execution_count": 156,
   "metadata": {},
   "outputs": [],
   "source": [
    "load_dotenv()\n",
    "\n",
    "\n",
    "\n",
    "\n",
    "client_id = os.getenv(\"CLIENT_ID\")\n",
    "client_secret = os.getenv(\"CLIENT_SECRET\")\n",
    "\n",
    "\n",
    "\n",
    "\n",
    "def get_token():\n",
    "    auth_string = client_id + \":\" + client_secret\n",
    "    auth_bytes = auth_string.encode(\"utf-8\")\n",
    "    auth_base64 = str(base64.b64encode(auth_bytes), \"utf-8\")\n",
    "\n",
    "\n",
    "\n",
    "\n",
    "    url = \"https://accounts.spotify.com/api/token\"\n",
    "    headers = {\n",
    "    \"Authorization\": \"Basic \" + auth_base64,\n",
    "    \"Content-Type\": \"application/x-www-form-urlencoded\"\n",
    "    }\n",
    "    data ={\"grant_type\": \"client_credentials\"}\n",
    "    result = post(url, headers=headers, data=data)\n",
    "    json_result = json.loads(result.content)\n",
    "    token = json_result[\"access_token\"]\n",
    "    return token\n",
    "\n",
    "\n",
    "\n",
    "\n",
    "def get_auth_header(token):\n",
    "    return{\"Authorization\": \"Bearer \" + token}\n",
    "\n",
    "\n",
    "def search_for_songs(token, start_year, end_year, offset):\n",
    "\n",
    "    url = \"https://api.spotify.com/v1/search\"\n",
    "    start_year_str = str(start_year)\n",
    "    end_year_str = str(end_year)\n",
    "    headers = get_auth_header(token)\n",
    "    query = f\"?q=year:{start_year_str}-{end_year_str}&type=track&limit=50&offset={offset}\"\n",
    "\n",
    "    query_url = url + query\n",
    "    result = get(query_url, headers=headers)\n",
    "    json_result = json.loads(result.content)[\"tracks\"]\n",
    "    return json_result\n",
    "\n",
    "\n",
    "def search_attributes(token, song_ids):\n",
    "    url = \"https://api.spotify.com/v1/audio-features\"\n",
    "    headers = get_auth_header(token)\n",
    "    query = f\"?{song_ids}&limit=50\"\n",
    "    query_url = url + query\n",
    "    result = get(query_url, headers=headers)\n",
    "    json_result = json.loads(result.content)\n",
    "    return json_result\n",
    "\n",
    "\n",
    "def make_playlist(size, start_year:int, end_year:int, dance_min: float, dance_max: float, loudness_min: float, loudness_max:float, valence_min: float, valence_max: float, energy_min:float, energy_max: float, speechiness_min: float, speechiness_max: float):\n",
    "\n",
    "    playlist: list[Song_Attributes] = []\n",
    "    offset_idx = 0\n",
    "\n",
    "    while (len(playlist) < size):\n",
    "        token = get_token()\n",
    "        result = search_for_songs(token, start_year, end_year, offset_idx * 50)\n",
    "        song_ids = []\n",
    "        for song in result[\"items\"]: song_ids.append(song['id'])\n",
    "        song_id_str = \"ids=\"\n",
    "        for id in song_ids: song_id_str += f\"{id},\"\n",
    "        song_attributes = search_attributes(token, song_id_str)\n",
    "        # print(song_attributes)\n",
    "\n",
    "        song_atts = {}\n",
    "\n",
    "        for song_id, attribute in zip(song_ids, song_attributes[\"audio_features\"]):\n",
    "            if song_id not in song_atts:\n",
    "                song_atts[song_id] = Song_Attributes(attribute, song_id)\n",
    "\n",
    "        for key in song_atts:\n",
    "            if dance_min <= song_atts[key].danceability <= dance_max and loudness_min <= song_atts[key].loudness <= loudness_max and valence_min <= song_atts[key].valence <= valence_max and energy_min <= song_atts[key].energy <= energy_max and speechiness_min <= song_atts[key].speechiness <= speechiness_max:\n",
    "                playlist.append(song_atts[key])\n",
    "                # print(\"song added\")\n",
    "                if len(playlist) is size: return playlist\n",
    "        \n",
    "        offset_idx += 1\n",
    "        \n",
    "    return playlist\n",
    "\n",
    "def get_track_info(token, id):\n",
    "    url = f\"https://api.spotify.com/v1/tracks/{id}\"\n",
    "\n",
    "    headers = {\n",
    "        \"Authorization\": f\"Bearer {token}\",\n",
    "        \"Content-Type\": \"application/json\",\n",
    "    }\n",
    "    \n",
    "    response = requests.get(url, headers=headers)\n",
    "    \n",
    "    if response.status_code == 200:\n",
    "        track_data = response.json()\n",
    "        artists = [artist['name'] for artist in track_data['artists']]\n",
    "        song_name = track_data['name']\n",
    "        return {\"artists\": artists, \"name\": song_name}\n",
    "    else:\n",
    "        print(f\"Error: Unable to retrieve track information (Status Code: {response.status_code})\")\n",
    "        return None\n",
    "\n"
   ]
  },
  {
   "cell_type": "markdown",
   "metadata": {},
   "source": [
    "### Analyze the top 50 songs of the 2000s\n",
    "We want our playlist to capture the feeling of the songs that were able to rise to the top of the charts in the 2000s. Here we get the average danceability, loudness, valence, energy, and speechiness of the top 50 songs of the 2000s."
   ]
  },
  {
   "cell_type": "code",
   "execution_count": 157,
   "metadata": {},
   "outputs": [],
   "source": [
    "def get_year_stats(start_year: int, end_year: int, size: int) -> Song_Attributes:\n",
    "\n",
    "\n",
    "    # for song in playlist_final: print(song.danceability, song.loudness, song.valence, song.energy, song.speechiness, song.id)\n",
    "    song_atts = {}\n",
    "\n",
    "    averages = {'danceability': 0, 'loudness': 0, 'valence': 0, 'energy': 0, 'speechiness': 0}\n",
    "  \n",
    "\n",
    "\n",
    "\n",
    "    songs = 0\n",
    "    offset_idx = 0\n",
    "    while (songs < size):\n",
    "        token = get_token()\n",
    "        result = search_for_songs(token, start_year, end_year, offset_idx * 50)\n",
    "        song_ids = []\n",
    "        for song in result[\"items\"]: song_ids.append(song['id'])\n",
    "        song_id_str = \"ids=\"\n",
    "        for id in song_ids: song_id_str += f\"{id},\"\n",
    "        song_attributes = search_attributes(token, song_id_str)\n",
    "        # print(song_attributes)\n",
    "\n",
    "\n",
    "        song_atts = {}\n",
    "\n",
    "\n",
    "        for song_id, attribute in zip(song_ids, song_attributes[\"audio_features\"]):\n",
    "            if song_id not in song_atts:\n",
    "                song_atts[song_id] = Song_Attributes(attribute, song_id)\n",
    "                songs+= 1\n",
    "                if songs is size: break\n",
    "                \n",
    "        for key in song_atts:\n",
    "            averages['danceability'] += song_atts[key].danceability\n",
    "            averages['loudness'] += song_atts[key].loudness\n",
    "            averages['valence'] += song_atts[key].valence\n",
    "            averages['energy'] += song_atts[key].energy\n",
    "            averages['speechiness'] += song_atts[key].speechiness\n",
    "        \n",
    "        offset_idx += 1\n",
    "    \n",
    "    averages['danceability'] /= size\n",
    "    averages['loudness'] /= size\n",
    "    averages['valence'] /= size\n",
    "    averages['energy'] /= size\n",
    "    averages['speechiness'] /= size\n",
    "\n",
    "    #print(averages['danceability'], averages['loudness'], averages['valence'], averages['energy'], averages['speechiness'])\n",
    "    return averages\n",
    "    \n",
    "\n",
    "\n",
    "year_2000s = get_year_stats(2000, 2010, 50)"
   ]
  },
  {
   "cell_type": "markdown",
   "metadata": {},
   "source": [
    "### Making our playlist!!\n",
    "Here we make our ultimate 2000s playlist, and print the attributes and song IDs."
   ]
  },
  {
   "cell_type": "code",
   "execution_count": 145,
   "metadata": {},
   "outputs": [
    {
     "name": "stdout",
     "output_type": "stream",
     "text": [
      "0.652 -4.667 0.47 0.698 0.042 5Q0Nhxo0l2bP3pNjpGJwV1\n",
      "0.617 -7.858 0.49 0.717 0.153 0j2T0R9dR9qdJYsB7ciXhf\n",
      "0.668 -4.931 0.539 0.672 0.0303 15DeqWWQB4dcEWzJg15VrN\n",
      "0.716 -2.183 0.464 0.72 0.0319 7GQjJEwqlp6m5HNWVQd6OR\n",
      "0.687 -4.172 0.545 0.677 0.0508 3o7TMr6RmIusYH7Kkg7ujR\n",
      "0.595 -4.935 0.542 0.653 0.0265 3oW6SWwGqiZSPTiAp7ZQoH\n",
      "0.583 -4.603 0.575 0.829 0.134 2yPoXCs7BSIUrucMdK5PzV\n",
      "0.662 -5.406 0.404 0.741 0.0334 3xrn9i8zhNZsTtcoWgQEAd\n",
      "0.621 -4.865 0.452 0.82 0.0367 22PMfvdz35fFKYnJyMn077\n",
      "0.718 -6.44 0.552 0.691 0.0387 6ihL9TjfRjadfEePzXXyVF\n",
      "0.68 -6.162 0.467 0.687 0.0709 1IAzD1muglOxOcPbUHs70R\n",
      "0.675 -8.659 0.533 0.734 0.0265 2ncLdwTd8qzkxiJjlbiOgC\n",
      "0.583 -4.603 0.575 0.829 0.134 49FYlytm3dAAraYgpoJZux\n",
      "0.585 -5.898 0.427 0.776 0.0459 5xEM5hIgJ1jjgcEBfpkt2F\n",
      "0.663 -8.627 0.525 0.694 0.171 7yMiX7n9SBvadzox8T5jzT\n",
      "0.687 -4.44 0.443 0.783 0.0386 3GCL1PydwsLodcpv0Ll1ch\n",
      "0.672 -4.456 0.438 0.82 0.0459 3NZJlJemX3mzjf56MqC5ML\n",
      "0.677 -4.905 0.527 0.671 0.0361 30cSNer6TV8x2utjULVeQ5\n",
      "0.651 -5.569 0.465 0.663 0.0281 4llK75pXNWZz6KAho2Gp16\n",
      "0.593 -6.12 0.502 0.74 0.0339 1NrJYpdAi7uosDRPmSYrsG\n",
      "0.58 -5.433 0.584 0.748 0.0323 16DhvbuyvJob4Q9GHNYu2n\n",
      "0.552 -5.608 0.432 0.836 0.0453 6fTgbkBiMITtHUmik95ClX\n",
      "0.671 -8.689 0.581 0.726 0.0272 393MDhe62s8hbH8ETrlxe5\n",
      "0.689 -5.81 0.578 0.739 0.026 0q6LuUqGLUiCPP1cbdwFs3\n",
      "0.583 -3.142 0.573 0.786 0.0301 4E6cwWJWZw2zWf7VFbH7wf\n",
      "0.624 -6.582 0.564 0.654 0.183 7Lf7oSEVdzZqTA0kEDSlS5\n",
      "0.688 -4.569 0.46 0.734 0.0274 2hns6Dv29Yrg68AVTJiAyA\n",
      "0.613 -8.618 0.476 0.697 0.133 0DiWol3AO6WpXZgp0goxAV\n",
      "0.572 -5.534 0.535 0.728 0.0275 1UL8GkVAs6UcWF6BZ3DYZt\n",
      "0.705 -6.646 0.448 0.735 0.0931 0grFc6klR3hxoHLcgCYsF4\n"
     ]
    }
   ],
   "source": [
    "\n",
    "playlist_2000s = make_playlist(30, 2000, 2010, year_2000s['danceability']-.1, year_2000s['danceability']+.1, year_2000s['loudness']-6, year_2000s['loudness']+6, year_2000s['valence']-.1, year_2000s['valence']+.1, year_2000s['energy']-.1, year_2000s['energy']+.1, year_2000s['speechiness']-.1, year_2000s['speechiness']+.1 )\n",
    "for song in playlist_2000s: print(song.danceability, song.loudness, song.valence, song.energy, song.speechiness, song.id)"
   ]
  },
  {
   "cell_type": "markdown",
   "metadata": {},
   "source": [
    "### Listing the songs in our playlist\n",
    "Now we find the name and artists of each song in our playlist, and store it in a list."
   ]
  },
  {
   "cell_type": "code",
   "execution_count": 146,
   "metadata": {},
   "outputs": [],
   "source": [
    "playlist_list = []\n",
    "for song in playlist_2000s:\n",
    "    token = get_token()\n",
    "    track_id = song.id\n",
    "    track_info = get_track_info(token, track_id)\n",
    "    if track_info:\n",
    "        playlist_list.append({'name': track_info[\"name\"], 'artists': \", \".join(track_info[\"artists\"])})"
   ]
  },
  {
   "cell_type": "markdown",
   "metadata": {},
   "source": [
    "### Visualizing our playlist\n",
    "Now we show a table with the song name and artist of each song in our playlist."
   ]
  },
  {
   "cell_type": "code",
   "execution_count": 147,
   "metadata": {},
   "outputs": [
    {
     "data": {
      "text/html": [
       "<table border=\"1\" class=\"dataframe\">\n",
       "    <thead>\n",
       "        <tr>\n",
       "            <th>Song Name</th> <th>Artist</th>\n",
       "        </tr>\n",
       "    </thead>\n",
       "    <tbody>\n",
       "        <tr>\n",
       "            <td>Party In The U.S.A.          </td> <td>Miley Cyrus             </td>\n",
       "        </tr>\n",
       "        <tr>\n",
       "            <td>Stronger                     </td> <td>Kanye West              </td>\n",
       "        </tr>\n",
       "        <tr>\n",
       "            <td>Our Song                     </td> <td>Taylor Swift            </td>\n",
       "        </tr>\n",
       "        <tr>\n",
       "            <td>Good Directions              </td> <td>Billy Currington        </td>\n",
       "        </tr>\n",
       "        <tr>\n",
       "            <td>Coming Undone                </td> <td>Korn                    </td>\n",
       "        </tr>\n",
       "        <tr>\n",
       "            <td>It's A Great Day To Be Alive </td> <td>Travis Tritt            </td>\n",
       "        </tr>\n",
       "        <tr>\n",
       "            <td>Umbrella                     </td> <td>Rihanna, JAY-Z          </td>\n",
       "        </tr>\n",
       "        <tr>\n",
       "            <td>Since U Been Gone            </td> <td>Kelly Clarkson          </td>\n",
       "        </tr>\n",
       "        <tr>\n",
       "            <td>Marry You                    </td> <td>Bruno Mars              </td>\n",
       "        </tr>\n",
       "        <tr>\n",
       "            <td>Gives You Hell               </td> <td>The All-American Rejects</td>\n",
       "        </tr>\n",
       "        <tr>\n",
       "            <td>Whatever You Like            </td> <td>T.I.                    </td>\n",
       "        </tr>\n",
       "        <tr>\n",
       "            <td>Mr. Rager                    </td> <td>Kid Cudi                </td>\n",
       "        </tr>\n",
       "        <tr>\n",
       "            <td>Umbrella                     </td> <td>Rihanna, JAY-Z          </td>\n",
       "        </tr>\n",
       "        <tr>\n",
       "            <td>Complicated                  </td> <td>Avril Lavigne           </td>\n",
       "        </tr>\n",
       "        <tr>\n",
       "            <td>Clint Eastwood               </td> <td>Gorillaz                </td>\n",
       "        </tr>\n",
       "        <tr>\n",
       "            <td>You Belong With Me           </td> <td>Taylor Swift            </td>\n",
       "        </tr>\n",
       "        <tr>\n",
       "            <td>Forever                      </td> <td>Chris Brown             </td>\n",
       "        </tr>\n",
       "        <tr>\n",
       "            <td>SOS                          </td> <td>Rihanna                 </td>\n",
       "        </tr>\n",
       "        <tr>\n",
       "            <td>She Will Be Loved - Radio Mix</td> <td>Maroon 5                </td>\n",
       "        </tr>\n",
       "        <tr>\n",
       "            <td>Apologize                    </td> <td>OneRepublic             </td>\n",
       "        </tr>\n",
       "        <tr>\n",
       "            <td>She Hates Me                 </td> <td>Puddle Of Mudd          </td>\n",
       "        </tr>\n",
       "        <tr>\n",
       "            <td>MakeDamnSure                 </td> <td>Taking Back Sunday      </td>\n",
       "        </tr>\n",
       "        <tr>\n",
       "            <td>Mr. Rager                    </td> <td>Kid Cudi                </td>\n",
       "        </tr>\n",
       "        <tr>\n",
       "            <td>On Melancholy Hill           </td> <td>Gorillaz                </td>\n",
       "        </tr>\n",
       "        <tr>\n",
       "            <td>Love Song                    </td> <td>Sara Bareilles          </td>\n",
       "        </tr>\n",
       "        <tr>\n",
       "            <td>Cry Me a River               </td> <td>Justin Timberlake       </td>\n",
       "        </tr>\n",
       "        <tr>\n",
       "            <td>Who Knew                     </td> <td>P!nk                    </td>\n",
       "        </tr>\n",
       "        <tr>\n",
       "            <td>One More Time                </td> <td>Daft Punk               </td>\n",
       "        </tr>\n",
       "        <tr>\n",
       "            <td>Closer to the Sun            </td> <td>Slightly Stoopid        </td>\n",
       "        </tr>\n",
       "        <tr>\n",
       "            <td>Howlin' for You              </td> <td>The Black Keys          </td>\n",
       "        </tr>\n",
       "    </tbody>\n",
       "</table>"
      ],
      "text/plain": [
       "<IPython.core.display.HTML object>"
      ]
     },
     "metadata": {},
     "output_type": "display_data"
    }
   ],
   "source": [
    "names = make_array()\n",
    "artists = make_array()\n",
    "\n",
    "for song in playlist_list:\n",
    "    names = np.append(names, song['name'])\n",
    "    artists = np.append(artists, song['artists'])\n",
    "\n",
    "playlistTable = Table().with_columns('Song Name', names, 'Artist', artists)\n",
    "playlistTable.show(30)"
   ]
  },
  {
   "cell_type": "markdown",
   "metadata": {},
   "source": [
    "### Plot the stats about the playlist\n",
    "We plot the average attributes of our playlist, with a scale of 0-100% of each attributes value range."
   ]
  },
  {
   "cell_type": "code",
   "execution_count": 158,
   "metadata": {},
   "outputs": [
    {
     "data": {
      "image/png": "[encoded data removed]",
      "text/plain": [
       "<Figure size 432x288 with 1 Axes>"
      ]
     },
     "metadata": {},
     "output_type": "display_data"
    }
   ],
   "source": [
    "plotting(playlist_2000s)"
   ]
  },
  {
   "cell_type": "markdown",
   "metadata": {},
   "source": [
    "### Finding data for each year in the 2000s\n",
    "Now we find the average attribute values for the top 50 songs of each year in the 2000s."
   ]
  },
  {
   "cell_type": "code",
   "execution_count": 149,
   "metadata": {},
   "outputs": [],
   "source": [
    "years_stats = []\n",
    "for i in range(11):\n",
    "    years_stats.append(get_year_stats(2000 + i, 2000 + i, 50))\n",
    "\n"
   ]
  },
  {
   "cell_type": "markdown",
   "metadata": {},
   "source": [
    "### Creating a table of the average attribute value for each year"
   ]
  },
  {
   "cell_type": "code",
   "execution_count": 153,
   "metadata": {},
   "outputs": [
    {
     "data": {
      "text/html": [
       "<table border=\"1\" class=\"dataframe\">\n",
       "    <thead>\n",
       "        <tr>\n",
       "            <th>Year</th> <th>Danceability</th> <th>Loudness</th> <th>Valence</th> <th>Energy</th> <th>Speechiness</th>\n",
       "        </tr>\n",
       "    </thead>\n",
       "    <tbody>\n",
       "        <tr>\n",
       "            <td>2000</td> <td>63.428      </td> <td>91.0183 </td> <td>61.21  </td> <td>75.368 </td> <td>9.0702     </td>\n",
       "        </tr>\n",
       "        <tr>\n",
       "            <td>2001</td> <td>59.534      </td> <td>89.8702 </td> <td>57.1474</td> <td>73.1266</td> <td>6.233      </td>\n",
       "        </tr>\n",
       "        <tr>\n",
       "            <td>2002</td> <td>62.356      </td> <td>90.8262 </td> <td>54.428 </td> <td>72.664 </td> <td>7.9482     </td>\n",
       "        </tr>\n",
       "        <tr>\n",
       "            <td>2003</td> <td>60.416      </td> <td>91.8639 </td> <td>59.3626</td> <td>77.42  </td> <td>10.4874    </td>\n",
       "        </tr>\n",
       "        <tr>\n",
       "            <td>2004</td> <td>60.924      </td> <td>90.8216 </td> <td>58.5014</td> <td>75.88  </td> <td>13.6174    </td>\n",
       "        </tr>\n",
       "        <tr>\n",
       "            <td>2005</td> <td>62.154      </td> <td>90.4475 </td> <td>51.9744</td> <td>70.21  </td> <td>11.7876    </td>\n",
       "        </tr>\n",
       "        <tr>\n",
       "            <td>2006</td> <td>61.42       </td> <td>91.7147 </td> <td>58.45  </td> <td>76.688 </td> <td>7.3164     </td>\n",
       "        </tr>\n",
       "        <tr>\n",
       "            <td>2007</td> <td>60.766      </td> <td>91.1651 </td> <td>56.164 </td> <td>76.724 </td> <td>9.6398     </td>\n",
       "        </tr>\n",
       "        <tr>\n",
       "            <td>2008</td> <td>64.396      </td> <td>90.8603 </td> <td>53.6394</td> <td>71.478 </td> <td>6.7496     </td>\n",
       "        </tr>\n",
       "        <tr>\n",
       "            <td>2009</td> <td>63.538      </td> <td>89.7622 </td> <td>53.2904</td> <td>69.8318</td> <td>8.7398     </td>\n",
       "        </tr>\n",
       "    </tbody>\n",
       "</table>\n",
       "<p>... (1 rows omitted)</p>"
      ],
      "text/plain": [
       "Year | Danceability | Loudness | Valence | Energy  | Speechiness\n",
       "2000 | 63.428       | 91.0183  | 61.21   | 75.368  | 9.0702\n",
       "2001 | 59.534       | 89.8702  | 57.1474 | 73.1266 | 6.233\n",
       "2002 | 62.356       | 90.8262  | 54.428  | 72.664  | 7.9482\n",
       "2003 | 60.416       | 91.8639  | 59.3626 | 77.42   | 10.4874\n",
       "2004 | 60.924       | 90.8216  | 58.5014 | 75.88   | 13.6174\n",
       "2005 | 62.154       | 90.4475  | 51.9744 | 70.21   | 11.7876\n",
       "2006 | 61.42        | 91.7147  | 58.45   | 76.688  | 7.3164\n",
       "2007 | 60.766       | 91.1651  | 56.164  | 76.724  | 9.6398\n",
       "2008 | 64.396       | 90.8603  | 53.6394 | 71.478  | 6.7496\n",
       "2009 | 63.538       | 89.7622  | 53.2904 | 69.8318 | 8.7398\n",
       "... (1 rows omitted)"
      ]
     },
     "execution_count": 153,
     "metadata": {},
     "output_type": "execute_result"
    }
   ],
   "source": [
    "dance = make_array()\n",
    "loud = make_array()\n",
    "valence = make_array()\n",
    "energy = make_array()\n",
    "speech = make_array()\n",
    "\n",
    "for stats in years_stats:\n",
    "    dance = np.append(dance, stats['danceability'])\n",
    "    loud = np.append(loud, stats['loudness'])\n",
    "    valence = np.append(valence, stats['valence'])\n",
    "    energy = np.append(energy, stats['energy'])\n",
    "    speech = np.append(speech, stats['speechiness'])\n",
    "\n",
    "\n",
    "dance = dance * 100\n",
    "loud = (((loud + 60) * 100) / 60)\n",
    "valence = valence * 100\n",
    "energy = energy * 100\n",
    "speech = speech * 100\n",
    "\n",
    "yearsTable = Table().with_columns('Year', np.arange(2000, 2011, 1), 'Danceability', dance,\n",
    "                                  'Loudness', loud, 'Valence', valence, 'Energy', energy,\n",
    "                                  'Speechiness', speech)\n",
    "yearsTable"
   ]
  },
  {
   "cell_type": "markdown",
   "metadata": {},
   "source": [
    "### Plotting the change in each attribute value for each year\n",
    "Plotting the average for each attribute value of the top 50 songs of each year, with a range of 0-100% of the range of possible values."
   ]
  },
  {
   "cell_type": "code",
   "execution_count": 151,
   "metadata": {},
   "outputs": [
    {
     "data": {
      "image/png": "[encoded data removed]",
      "text/plain": [
       "<Figure size 432x432 with 1 Axes>"
      ]
     },
     "metadata": {},
     "output_type": "display_data"
    }
   ],
   "source": [
    "yearsTable.plot('Year')"
   ]
  }
 ],
 "metadata": {
  "kernelspec": {
   "display_name": "Python 3",
   "language": "python",
   "name": "python3"
  },
  "language_info": {
   "codemirror_mode": {
    "name": "ipython",
    "version": 3
   },
   "file_extension": ".py",
   "mimetype": "text/x-python",
   "name": "python",
   "nbconvert_exporter": "python",
   "pygments_lexer": "ipython3",
   "version": "3.10.0"
  },
  "orig_nbformat": 4
 },
 "nbformat": 4,
 "nbformat_minor": 2
}
